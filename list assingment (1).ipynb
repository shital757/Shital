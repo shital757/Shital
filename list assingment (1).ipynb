{
 "cells": [
  {
   "cell_type": "markdown",
   "id": "0fe74535-2356-4aae-8ec3-be5da428b112",
   "metadata": {},
   "source": [
    "Q1"
   ]
  },
  {
   "cell_type": "markdown",
   "id": "e0dd3bac-6ad8-4c02-9e6d-762074059052",
   "metadata": {},
   "source": [
    " # create 2 list from a given list where\n",
    "#1st list will contain all the origanal all the odd number from the original list and \n",
    "#the 2nd one will contain all the even numbers\n",
    "L=[1,2,3,4,5,6]"
   ]
  },
  {
   "cell_type": "code",
   "execution_count": 4,
   "id": "959deb22-77b7-47dc-aba7-5988170a6f00",
   "metadata": {},
   "outputs": [
    {
     "name": "stdout",
     "output_type": "stream",
     "text": [
      "list1:     [1, 2, 3, 4, 5, 6]\n",
      "listEven:  [2, 4, 6]\n",
      "listOdd:   [1, 3, 5]\n"
     ]
    }
   ],
   "source": [
    "#declare and assign list1\n",
    "list1=[1,2,3,4,5,6]\n",
    "listOdd=[]\n",
    "listEven=[]\n",
    "for num in list1:\n",
    "    if num % 2==0:\n",
    "        listEven.append(num)\n",
    "    else:\n",
    "        listOdd.append(num)\n",
    "\n",
    "#print lists\n",
    "print(\"list1:    \",list1)\n",
    "print(\"listEven: \",listEven)\n",
    "print(\"listOdd:  \",listOdd)"
   ]
  },
  {
   "cell_type": "markdown",
   "id": "7f73a9dc-6e2f-4c42-8fda-b1951fb34858",
   "metadata": {},
   "source": [
    "# How many take list as input from user"
   ]
  },
  {
   "cell_type": "code",
   "execution_count": 11,
   "id": "7766be26-0382-48eb-865c-4bf562014cf8",
   "metadata": {},
   "outputs": [
    {
     "name": "stdin",
     "output_type": "stream",
     "text": [
      "Enter number of elements : 6\n",
      " 1\n",
      " 2\n",
      " 3\n",
      " 4\n",
      " 5\n",
      " 6\n"
     ]
    },
    {
     "name": "stdout",
     "output_type": "stream",
     "text": [
      "[1, 2, 3, 4, 5, 6, 1, 2, 3, 4, 5, 6]\n"
     ]
    }
   ],
   "source": [
    "#creating on empty list \n",
    "lst=[1,2,3,4,5,6]\n",
    "n=int(input(\"Enter number of elements :\"))\n",
    "for i in range(0,n):\n",
    "    ele= int(input())\n",
    "    lst.append(ele)\n",
    "print(lst)\n"
   ]
  },
  {
   "cell_type": "markdown",
   "id": "6fe75c2c-679c-424a-88f8-458864bdeddf",
   "metadata": {},
   "source": [
    "# Write a program to merge 2 list without using the + operator "
   ]
  },
  {
   "cell_type": "markdown",
   "id": "2aee83b1-0af4-4317-a915-4a38b89df933",
   "metadata": {},
   "source": [
    "#L1 =[1,2,3,4] #L2 =[5,6,7,8]"
   ]
  },
  {
   "cell_type": "code",
   "execution_count": 12,
   "id": "d35003f5-e467-42d5-b5df-2a6d54985d08",
   "metadata": {},
   "outputs": [
    {
     "data": {
      "text/plain": [
       "[1, 2, 3, 4, 5, 6, 7, 8]"
      ]
     },
     "execution_count": 12,
     "metadata": {},
     "output_type": "execute_result"
    }
   ],
   "source": [
    "L1=[1,2,3,4]\n",
    "L1.extend([5,6,7,8])\n",
    "L1"
   ]
  },
  {
   "cell_type": "markdown",
   "id": "5ca0f9ab-00cc-44ba-98b5-bebe3650dc5d",
   "metadata": {},
   "source": [
    "# Write a program to replace an item with a different item if found in the list L=[1,2,3,4,5.3] replace 3 with 300"
   ]
  },
  {
   "cell_type": "markdown",
   "id": "d6b5feb1-7404-4a5e-9b0b-7f5ea00e76db",
   "metadata": {},
   "source": [
    "# Write a program to remove duplicate items from a list \n",
    "L=[1,2,3,4,5,3,4]"
   ]
  },
  {
   "cell_type": "code",
   "execution_count": 26,
   "id": "8fed5c52-bc79-431d-9c9e-4080d7756f34",
   "metadata": {},
   "outputs": [
    {
     "name": "stdout",
     "output_type": "stream",
     "text": [
      "the original list is :[1, 2, 1, 2, 3, 4, 5, 3, 4]\n",
      "the list after removing duplicates : [1, 2, 3, 4, 5]\n"
     ]
    }
   ],
   "source": [
    "#initializing list\n",
    "test_list = L=[1,2,1,2,3,4,5,3,4]\n",
    "print(\"the original list is :\"\n",
    "      +str(test_list))\n",
    "test_list =list(set(test_list))\n",
    "print(\"the list after removing duplicates : \"\n",
    "      +str(test_list))"
   ]
  },
  {
   "cell_type": "markdown",
   "id": "a86d9fb1-34d6-4045-a835-c2d63d7c1e62",
   "metadata": {},
   "source": [
    "# Write a program that can convert a 2D list to 1D list"
   ]
  },
  {
   "cell_type": "code",
   "execution_count": 17,
   "id": "1a8210f5-d5cb-49a6-a9cb-bfb5a4fd899a",
   "metadata": {},
   "outputs": [
    {
     "name": "stdout",
     "output_type": "stream",
     "text": [
      "[1, 2, 3, 4, 5, 6, 7, 8]\n",
      "[1, 2, 3, 4, 5]\n"
     ]
    }
   ],
   "source": [
    "L=[1,2,3,4,[5,6]]\n",
    "print(L1)\n",
    "L=[1,2,3,4,5]\n",
    "print(L)"
   ]
  },
  {
   "cell_type": "markdown",
   "id": "a7b1387a-5414-4145-827a-12c2f99ebe17",
   "metadata": {},
   "source": [
    "# Write a program to check if a list is in ascending  order or not"
   ]
  },
  {
   "cell_type": "code",
   "execution_count": 22,
   "id": "246fd08e-9c1e-4677-b604-671e792eff88",
   "metadata": {},
   "outputs": [
    {
     "data": {
      "text/plain": [
       "[1, 2, 3, 4, 5, 6, 7, 8, 9, 10, 11]"
      ]
     },
     "execution_count": 22,
     "metadata": {},
     "output_type": "execute_result"
    }
   ],
   "source": [
    "L=[4,5,7,8,10,11,9,6,1,3,2,]\n",
    "L.sort()\n",
    "L"
   ]
  },
  {
   "cell_type": "code",
   "execution_count": null,
   "id": "7e9c31b2-f6bf-481d-ab75-f66688f0bfa2",
   "metadata": {},
   "outputs": [],
   "source": []
  }
 ],
 "metadata": {
  "kernelspec": {
   "display_name": "Python 3 (ipykernel)",
   "language": "python",
   "name": "python3"
  },
  "language_info": {
   "codemirror_mode": {
    "name": "ipython",
    "version": 3
   },
   "file_extension": ".py",
   "mimetype": "text/x-python",
   "name": "python",
   "nbconvert_exporter": "python",
   "pygments_lexer": "ipython3",
   "version": "3.11.7"
  }
 },
 "nbformat": 4,
 "nbformat_minor": 5
}
